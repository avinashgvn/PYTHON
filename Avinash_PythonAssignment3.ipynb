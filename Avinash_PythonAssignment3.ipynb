{
 "cells": [
  {
   "cell_type": "markdown",
   "metadata": {},
   "source": [
    "# Python Assignment -3"
   ]
  },
  {
   "cell_type": "markdown",
   "metadata": {},
   "source": [
    "1.1 Write a Python Program to implement your own myreduce() function which works exactly like Python's built-in function reduce()"
   ]
  },
  {
   "cell_type": "code",
   "execution_count": 1,
   "metadata": {},
   "outputs": [],
   "source": [
    "def myreduce(func,reduce_sequence):\n",
    "    myreduce_result = reduce_sequence[0]\n",
    "    for item in reduce_sequence[1:]:\n",
    "        myreduce_result = func(myreduce_result, item)\n",
    "    return myreduce_result\n",
    "\n",
    "def sum(x,y):return x+y"
   ]
  },
  {
   "cell_type": "code",
   "execution_count": 2,
   "metadata": {},
   "outputs": [
    {
     "name": "stdout",
     "output_type": "stream",
     "text": [
      "Output of myreduce function\t=15\n",
      "Function Name\t='<function sum at 0x00000292966F9E58>' \n",
      "sequence\t='[1, 2, 3, 4, 5]'\n"
     ]
    }
   ],
   "source": [
    "#Validate myreduce() Function\n",
    "input_reduce_seq=[1,2,3,4,5]\n",
    "myreduce_output=myreduce(sum,input_reduce_seq)\n",
    "print(\"Output of myreduce function\\t={}\\nFunction Name\\t='{}' \\nsequence\\t='{}'\".format(myreduce_output,sum,input_reduce_seq))"
   ]
  },
  {
   "cell_type": "markdown",
   "metadata": {},
   "source": [
    "1.2 Write a Python program to implement your own myfilter() function which works exactly like Python's built-in function filter()"
   ]
  },
  {
   "cell_type": "code",
   "execution_count": 3,
   "metadata": {},
   "outputs": [],
   "source": [
    "# Custom filter function \n",
    "def myfilter(anyfunc,filter_sequence):\n",
    "    myfilter_result = []\n",
    "    for item in filter_sequence:\n",
    "        if anyfunc(item):\n",
    "            myfilter_result.append(item)\n",
    "    return myfilter_result\n",
    "\n",
    "def ispositive(x):\n",
    "    if (x <= 0):\n",
    "        return False\n",
    "    else:\n",
    "        return True"
   ]
  },
  {
   "cell_type": "code",
   "execution_count": 4,
   "metadata": {},
   "outputs": [
    {
     "name": "stdout",
     "output_type": "stream",
     "text": [
      "Output of myFilter function\t=[1, 2.5]\n",
      "Function Name\t=<function ispositive at 0x0000029296715048>\n",
      "Sequence\t=[0, 1, -1, 2.5, -3.5]\n"
     ]
    }
   ],
   "source": [
    "#Validate myFilter() Function\n",
    "filter_list_seq=[0,1,-1,2.5,-3.5]\n",
    "myfilter_Output=myfilter(ispositive,filter_list_seq)\n",
    "print(\"Output of myFilter function\\t={}\\nFunction Name\\t={}\\nSequence\\t={}\".format(myfilter_Output,ispositive,filter_list_seq))"
   ]
  },
  {
   "cell_type": "raw",
   "metadata": {},
   "source": [
    "2)Implement List comprehensions to produce the following lists."
   ]
  },
  {
   "cell_type": "markdown",
   "metadata": {},
   "source": [
    "2.1)Write List comprehensions to produce the following Lists \n",
    "\n",
    "['x', 'xx', 'xxx', 'xxxx', 'y', 'yy', 'yyy', 'yyyy', 'z', 'zz', 'zzz', 'zzzz']"
   ]
  },
  {
   "cell_type": "code",
   "execution_count": 5,
   "metadata": {},
   "outputs": [
    {
     "name": "stdout",
     "output_type": "stream",
     "text": [
      "Output1= ['x', 'xx', 'xxx', 'xxxx', 'y', 'yy', 'yyy', 'yyyy', 'z', 'zz', 'zzz', 'zzzz']\n"
     ]
    }
   ],
   "source": [
    "list_comp=[]\n",
    "mat=['x','y','z']\n",
    "subList= [[val,val*2,val*3,val*4] for val in mat]\n",
    "Output1=[ind_val for each_val in subList for ind_val in each_val]\n",
    "print(\"Output1=\",Output1)"
   ]
  },
  {
   "cell_type": "markdown",
   "metadata": {},
   "source": [
    "2.2)Write List comprehensions to produce the following Lists \n",
    "\n",
    "['x', 'y', 'z', 'xx', 'yy', 'zz', 'xxx', 'yyy', 'zzz', 'xxxx', 'yyyy', 'zzzz']"
   ]
  },
  {
   "cell_type": "code",
   "execution_count": 6,
   "metadata": {},
   "outputs": [
    {
     "name": "stdout",
     "output_type": "stream",
     "text": [
      "Output2= ['x', 'y', 'z', 'xx', 'yy', 'zz', 'xxx', 'yyy', 'zzz', 'xxxx', 'yyyy', 'zzzz']\n"
     ]
    }
   ],
   "source": [
    "list_comp=[]\n",
    "mat=['x','y','z']\n",
    "Output2=[v*val for val in range(1,5) for v in mat]\n",
    "print(\"Output2=\",Output2)"
   ]
  },
  {
   "cell_type": "markdown",
   "metadata": {},
   "source": [
    "2.3)Write List comprehensions to produce the following Lists\n",
    "\n",
    "[[2], [3], [4], [3], [4], [5], [4], [5], [6]] [[2, 3, 4, 5], [3, 4, 5, 6],[4, 5, 6, 7], [5, 6, 7, 8]] "
   ]
  },
  {
   "cell_type": "code",
   "execution_count": 7,
   "metadata": {},
   "outputs": [
    {
     "name": "stdout",
     "output_type": "stream",
     "text": [
      "Output3= [[2], [3], [4], [3], [4], [5], [4], [5], [6]] [[2, 3, 4, 5], [3, 4, 5, 6], [4, 5, 6, 7], [5, 6, 7, 8]]\n"
     ]
    }
   ],
   "source": [
    "sl1=[[[i],[i+1],[i+2]] for i in range(2,5)]\n",
    "sl2=[i for val in sl1 for i in val]\n",
    "sl3=[[i,i+1,i+2,i+3] for i in range(2,6)]\n",
    "print(\"Output3=\",sl2,sl3)"
   ]
  },
  {
   "cell_type": "markdown",
   "metadata": {},
   "source": [
    "2.4)Write List comprehensions to produce the following Lists\n",
    "\n",
    "[(1, 1), (2, 1), (3, 1), (1, 2), (2, 2), (3, 2), (1, 3), (2, 3), (3, 3)]"
   ]
  },
  {
   "cell_type": "code",
   "execution_count": 8,
   "metadata": {},
   "outputs": [
    {
     "name": "stdout",
     "output_type": "stream",
     "text": [
      "output4= [(1, 1), (2, 1), (3, 1), (1, 2), (2, 2), (3, 2), (1, 3), (2, 3), (3, 3)]\n"
     ]
    }
   ],
   "source": [
    "output4=[(r,c) for c in range(1,4) for r in range(1,4)]\n",
    "print(\"output4=\",output4)"
   ]
  }
 ],
 "metadata": {
  "kernelspec": {
   "display_name": "Python 3",
   "language": "python",
   "name": "python3"
  },
  "language_info": {
   "codemirror_mode": {
    "name": "ipython",
    "version": 3
   },
   "file_extension": ".py",
   "mimetype": "text/x-python",
   "name": "python",
   "nbconvert_exporter": "python",
   "pygments_lexer": "ipython3",
   "version": "3.7.4"
  }
 },
 "nbformat": 4,
 "nbformat_minor": 2
}
