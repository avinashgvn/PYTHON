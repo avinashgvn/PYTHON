{
 "cells": [
  {
   "cell_type": "markdown",
   "metadata": {},
   "source": [
    "# Python Assignment -4"
   ]
  },
  {
   "cell_type": "markdown",
   "metadata": {},
   "source": [
    "1.1 Write a Python Program(with class concepts) to find the area of the triangle using the below formula. \n",
    " \n",
    "area = (s*(s-a)*(s-b)*(s-c)) ** 0.5 "
   ]
  },
  {
   "cell_type": "code",
   "execution_count": 48,
   "metadata": {},
   "outputs": [
    {
     "name": "stdout",
     "output_type": "stream",
     "text": [
      "Please Enter Sides of triangle separated by comma: 3,4,5\n",
      "Area of the Triangle with sides 3,4,5\t=6.0\n"
     ]
    }
   ],
   "source": [
    "class Area_triangle:\n",
    "    def __init__(self,side1,side2,side3):\n",
    "        self.side1=side1\n",
    "        self.side2=side2\n",
    "        self.side3=side3\n",
    "    \n",
    "class Calculate(Area_triangle):\n",
    "    \n",
    "    def __init__(self,*args):\n",
    "        super(Calculate,self).__init__(*args)\n",
    "                \n",
    "    def calculateArea(self,*args):\n",
    "        side1=self.side1\n",
    "        side2=self.side2\n",
    "        side3=self.side3\n",
    "        sp=(side1+side2+side3)/2\n",
    "        area = (sp*(sp-side1)*(sp-side2)*(sp-side3)) ** 0.5\n",
    "        return area\n",
    "\n",
    "\n",
    "l=input(\"Please Enter Sides of triangle separated by comma: \").split(\",\")\n",
    "calobj=Calculate(int(l[0]),int(l[1]),int(l[2]))\n",
    "area=calobj.calculateArea()\n",
    "print(\"Area of the Triangle with sides {},{},{}\\t={}\".format(l[0],l[1],l[2],area))"
   ]
  },
  {
   "cell_type": "markdown",
   "metadata": {},
   "source": [
    "1.2 Write a function filter_long_words() that takes a list of words and an integer n and returns the list of words that are longer than n."
   ]
  },
  {
   "cell_type": "code",
   "execution_count": 49,
   "metadata": {},
   "outputs": [
    {
     "name": "stdout",
     "output_type": "stream",
     "text": [
      "Function Name\t\t= Filter_long_words\n",
      "Input Test data\t\t= ['Inueron', 'Python', 'Technology', 'DataScience']\n",
      "Length of the Filter\t= 7\n",
      "Output\t\t\t= ['Technology', 'DataScience']\n"
     ]
    }
   ],
   "source": [
    "class Filter_long_words:\n",
    "    def __init__(self,input_numbers,length):\n",
    "        self.input_numbers=input_numbers\n",
    "        self.length=length\n",
    "        \n",
    "    def filter_long_words(self,input_numbers,length):\n",
    "        return list(filter(lambda x: len(x)>length,input_numbers))\n",
    "    \n",
    "    def __str__(self):\n",
    "        return \"Filter_long_words\"\n",
    "\n",
    "Input_testdata=['Inueron','Python','Technology','DataScience']\n",
    "Input_Length=7\n",
    "Output_function=Filter_long_words(Input_testdata,Input_Length)\n",
    "output_filter=Output_function.filter_long_words(Input_testdata,Input_Length)\n",
    "print(\"Function Name\\t\\t=\",Output_function)\n",
    "print(\"Input Test data\\t\\t=\",Input_testdata)\n",
    "print(\"Length of the Filter\\t=\",Input_Length)\n",
    "print(\"Output\\t\\t\\t=\",output_filter)"
   ]
  },
  {
   "cell_type": "markdown",
   "metadata": {},
   "source": [
    "2.1 Write a Python program using function concept that maps list of words into a list of integers representing the lengths of the corresponding words."
   ]
  },
  {
   "cell_type": "code",
   "execution_count": 50,
   "metadata": {},
   "outputs": [
    {
     "name": "stdout",
     "output_type": "stream",
     "text": [
      "Function Name\t\t= Map_wordCount\n",
      "Input Test data\t\t= ['Inueron', 'Python', 'Technology', 'DataScience']\n",
      "Output of Function\t= [7, 6, 10, 11]\n"
     ]
    }
   ],
   "source": [
    "class Map_wordCount:\n",
    "    def __init__(self,input_words):\n",
    "        self.input_words=input_words\n",
    "                \n",
    "    def map_wordcount(self,input_words):\n",
    "        return list(map(lambda x:len(x),input_words))\n",
    "    \n",
    "    def __str__(self):\n",
    "        return \"Map_wordCount\"\n",
    "    \n",
    "Input_testdata=['Inueron','Python','Technology','DataScience']\n",
    "Wordcount_obj=Map_wordCount(Input_testdata)\n",
    "output_MapWordCount=Wordcount_obj.map_wordcount(Input_testdata)\n",
    "print(\"Function Name\\t\\t=\",Wordcount_obj)\n",
    "print(\"Input Test data\\t\\t=\",Input_testdata)\n",
    "print(\"Output of Function\\t=\",output_MapWordCount)"
   ]
  },
  {
   "cell_type": "code",
   "execution_count": 51,
   "metadata": {},
   "outputs": [
    {
     "name": "stdout",
     "output_type": "stream",
     "text": [
      "Please Enter a character:a\n",
      "Method Name='Validate Vowel'\n",
      "Entered Character 'a' is Vowel\n"
     ]
    }
   ],
   "source": [
    "class ValidateVowel:\n",
    "    def __init__(self,input_char):\n",
    "        self.input_char=input_char\n",
    "        \n",
    "    def validateVowel(self,input_char):\n",
    "        res=[\"Vowel\" if input_char.lower() in ['a','e','i','o','u'] else \"Not a Vowel\"]\n",
    "        return res\n",
    "    def __str__(self):\n",
    "        return \"Validate Vowel\"\n",
    "\n",
    "inputChar=str(input(\"Please Enter a character:\"))\n",
    "ValidateVowel_obj=ValidateVowel(inputChar[0])\n",
    "res1=ValidateVowel_obj.validateVowel(inputChar[0])\n",
    "print(\"Method Name='{}'\".format(ValidateVowel_obj))\n",
    "print(\"Entered Character '{}' is {}\".format(inputChar[0],res1[0]))"
   ]
  }
 ],
 "metadata": {
  "kernelspec": {
   "display_name": "Python 3",
   "language": "python",
   "name": "python3"
  },
  "language_info": {
   "codemirror_mode": {
    "name": "ipython",
    "version": 3
   },
   "file_extension": ".py",
   "mimetype": "text/x-python",
   "name": "python",
   "nbconvert_exporter": "python",
   "pygments_lexer": "ipython3",
   "version": "3.7.4"
  }
 },
 "nbformat": 4,
 "nbformat_minor": 2
}
