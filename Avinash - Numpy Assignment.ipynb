{
 "cells": [
  {
   "cell_type": "markdown",
   "metadata": {},
   "source": [
    "# Numpy Assignment"
   ]
  },
  {
   "cell_type": "markdown",
   "metadata": {},
   "source": [
    "1)Write a function so that the columns of the output matrix are powers of the input vector\n",
    "The order of the powers is determined by the increasing boolean argument. Specifically, when increasing is False, the i-th output column is the input vector raised element-wise to the power of N-i-1"
   ]
  },
  {
   "cell_type": "code",
   "execution_count": 1,
   "metadata": {},
   "outputs": [],
   "source": [
    "import numpy as np"
   ]
  },
  {
   "cell_type": "code",
   "execution_count": 2,
   "metadata": {},
   "outputs": [],
   "source": [
    "def generate_vander_matrix(ip_vector, n, increasing=False):\n",
    "    \n",
    "    if not increasing:\n",
    "        output_matx = np.array([x**(n-1-i) for x in ip_vector for i in range(n)]).reshape(ip_vector.size,n)\n",
    "    elif increasing:\n",
    "        output_matx = np.array([x**i for x in ip_vector for i in range(n)]).reshape(ip_vector.size,n)\n",
    "    \n",
    "    return output_matx"
   ]
  },
  {
   "cell_type": "code",
   "execution_count": 3,
   "metadata": {},
   "outputs": [
    {
     "name": "stdout",
     "output_type": "stream",
     "text": [
      "Output of Descreasing Vander Matrix\n",
      " [[ 1  1  1]\n",
      " [ 4  2  1]\n",
      " [ 9  3  1]\n",
      " [16  4  1]\n",
      " [25  5  1]]\n",
      "Output of Increasing Vander Matrix\n",
      " [[ 1  1  1]\n",
      " [ 1  2  4]\n",
      " [ 1  3  9]\n",
      " [ 1  4 16]\n",
      " [ 1  5 25]]\n"
     ]
    }
   ],
   "source": [
    "input_vector = np.array([1,2,3,4,5])\n",
    "cols=3\n",
    "output_desc=generate_vander_matrix(input_vector,cols,False)\n",
    "print(\"Output of Descreasing Vander Matrix\\n\",output_desc)\n",
    "output_increase=generate_vander_matrix(input_vector,cols,True)\n",
    "print(\"Output of Increasing Vander Matrix\\n\",output_increase)"
   ]
  },
  {
   "cell_type": "markdown",
   "metadata": {},
   "source": [
    "2)Write a function to find moving average in an array over a window:        \n",
    "Test it over [3, 5, 7, 2, 8, 10, 11, 65, 72, 81, 99, 100, 150] and window of 3."
   ]
  },
  {
   "cell_type": "code",
   "execution_count": 4,
   "metadata": {},
   "outputs": [
    {
     "name": "stdout",
     "output_type": "stream",
     "text": [
      "Moving Average Sequence= 11\n"
     ]
    }
   ],
   "source": [
    "import numpy as np\n",
    "input_array=[3, 5, 7, 2, 8, 10, 11, 65, 72, 81, 99, 100, 150]\n",
    "k=3\n",
    "Moving_avg_sequence_val=len(input_array)-k+1\n",
    "print(\"Moving Average Sequence=\",Moving_avg_sequence_val)"
   ]
  },
  {
   "cell_type": "code",
   "execution_count": 5,
   "metadata": {},
   "outputs": [],
   "source": [
    "def moving_Avg_Sequence(inp_array,k):\n",
    "    output=[]\n",
    "    print(\" Inputs \".center(40,\"*\"))\n",
    "    print(\"Input Array=\",inp_array)\n",
    "    print(\"k=\",k)\n",
    "    Moving_avg_sequence_val=len(inp_array)-k+1\n",
    "    for i in range(Moving_avg_sequence_val):\n",
    "        pointer=0\n",
    "        total=0\n",
    "        while pointer<k:\n",
    "            total=total+inp_array[pointer+i]\n",
    "            pointer+=1\n",
    "        output.append(total/k)\n",
    "    return output,Moving_avg_sequence_val"
   ]
  },
  {
   "cell_type": "code",
   "execution_count": 6,
   "metadata": {},
   "outputs": [
    {
     "name": "stdout",
     "output_type": "stream",
     "text": [
      "**************** Inputs ****************\n",
      "Input Array= [3, 5, 7, 2, 8, 10, 11, 65, 72, 81, 99, 100, 150]\n",
      "k= 3\n",
      "**************** Output ****************\n",
      "Moving Average Sequence value= 11\n",
      "Moving Average sequence list of values:\n",
      " [5.0, 4.666666666666667, 5.666666666666667, 6.666666666666667, 9.666666666666666, 28.666666666666668, 49.333333333333336, 72.66666666666667, 84.0, 93.33333333333333, 116.33333333333333]\n"
     ]
    }
   ],
   "source": [
    "output_moving_avg,output_avg_val=moving_Avg_Sequence(input_array,k)\n",
    "print(\" Output \".center(40,\"*\"))\n",
    "print(\"Moving Average Sequence value=\",output_avg_val)\n",
    "print(\"Moving Average sequence list of values:\\n\",output_moving_avg)"
   ]
  },
  {
   "cell_type": "code",
   "execution_count": null,
   "metadata": {},
   "outputs": [],
   "source": []
  }
 ],
 "metadata": {
  "kernelspec": {
   "display_name": "Python 3",
   "language": "python",
   "name": "python3"
  },
  "language_info": {
   "codemirror_mode": {
    "name": "ipython",
    "version": 3
   },
   "file_extension": ".py",
   "mimetype": "text/x-python",
   "name": "python",
   "nbconvert_exporter": "python",
   "pygments_lexer": "ipython3",
   "version": "3.7.4"
  }
 },
 "nbformat": 4,
 "nbformat_minor": 2
}
